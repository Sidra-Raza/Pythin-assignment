{
 "cells": [
  {
   "cell_type": "code",
   "execution_count": 16,
   "metadata": {},
   "outputs": [
    {
     "name": "stdout",
     "output_type": "stream",
     "text": [
      "Enter first value 3\n",
      "Enter second value 5\n",
      "Enter operator '+'\n",
      "8\n"
     ]
    }
   ],
   "source": [
    "value1 = int(input(\"Enter first value \"))\n",
    "value2 = int(input(\"Enter second value \"))\n",
    "operator = input(\"Enter operator \")\n",
    "\n",
    "\n",
    "if operator == \"+\":\n",
    "    ans = value1+value2\n",
    "    print(ans)\n",
    "elif operator == \"_\":\n",
    "    ans = value1 - value2\n",
    "    print(ans)\n",
    "elif operator == \"*\":\n",
    "    ans = value1 * value2\n",
    "    print(ans)\n",
    "elif operator == \"**\":\n",
    "    ans = value1 ** value2\n",
    "    print(ans)  \n",
    "else:\n",
    "          print(\"Wrong operator\")"
   ]
  },
  {
   "cell_type": "code",
   "execution_count": 17,
   "metadata": {},
   "outputs": [
    {
     "name": "stdout",
     "output_type": "stream",
     "text": [
      "Numeric value in list[24, 45, 56]\n"
     ]
    }
   ],
   "source": [
    "a = ['se.24','fe.45','am.56']\n",
    "res = [int(sub.split('.')[1]) for sub in a]\n",
    "print(\"Numeric value in list\" + str(res))"
   ]
  },
  {
   "cell_type": "code",
   "execution_count": 18,
   "metadata": {},
   "outputs": [
    {
     "name": "stdout",
     "output_type": "stream",
     "text": [
      "Numeric value in list[24, 45, 56]\n"
     ]
    }
   ],
   "source": [
    "a = ['se.24','fe.45','am.56']\n",
    "res = [int(sub.split('.')[1]) for sub in a]\n",
    "print(\"Numeric value in list\" + str(res))"
   ]
  },
  {
   "cell_type": "code",
   "execution_count": 19,
   "metadata": {},
   "outputs": [
    {
     "data": {
      "text/plain": [
       "157"
      ]
     },
     "execution_count": 19,
     "metadata": {},
     "output_type": "execute_result"
    }
   ],
   "source": [
    "d={'key1':34,'key2':22,'key3':56,'key4':45}\n",
    "sum(d.values())"
   ]
  },
  {
   "cell_type": "code",
   "execution_count": 20,
   "metadata": {},
   "outputs": [
    {
     "name": "stdout",
     "output_type": "stream",
     "text": [
      "['animals', 'country']\n"
     ]
    }
   ],
   "source": [
    "a=['animals','village','animals','country','area','country']\n",
    "def repeat(x):\n",
    "    size = len(x)\n",
    "    repeated = []\n",
    "    for i in range(size):\n",
    "        k = i + 1\n",
    "        for j in range(k,size):\n",
    "              if x[i] == x[j] and x[i] not in repeated:\n",
    "                repeated.append(x[i])\n",
    "    return repeated  \n",
    "print(repeat(a))"
   ]
  },
  {
   "cell_type": "code",
   "execution_count": 21,
   "metadata": {},
   "outputs": [
    {
     "name": "stdout",
     "output_type": "stream",
     "text": [
      "('dictionary', \"{'maths': 34, 'science': 45, 'art': 50, 'urdu': 45, 'english': 34}\")\n",
      "('Duplicate values', '[34, 45]')\n"
     ]
    }
   ],
   "source": [
    "a={'maths':34,'science':45,'english':34,'urdu':45,'art':50}\n",
    "print(\"dictionary\",str(a))\n",
    "rev_a = {}\n",
    "for key, value in a.items():\n",
    "    rev_a.setdefault(value,set()).add(key)\n",
    "result = [key for key,values in rev_a.items()if len(values)>1]\n",
    "print(\"Duplicate values\",str(result))"
   ]
  },
  {
   "cell_type": "code",
   "execution_count": null,
   "metadata": {},
   "outputs": [],
   "source": []
  }
 ],
 "metadata": {
  "kernelspec": {
   "display_name": "Python 2",
   "language": "python",
   "name": "python2"
  },
  "language_info": {
   "codemirror_mode": {
    "name": "ipython",
    "version": 2
   },
   "file_extension": ".py",
   "mimetype": "text/x-python",
   "name": "python",
   "nbconvert_exporter": "python",
   "pygments_lexer": "ipython2",
   "version": "2.7.16"
  }
 },
 "nbformat": 4,
 "nbformat_minor": 2
}
