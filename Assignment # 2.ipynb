{
 "cells": [
  {
   "cell_type": "code",
   "execution_count": 11,
   "metadata": {},
   "outputs": [
    {
     "name": "stdout",
     "output_type": "stream",
     "text": [
      "Marks of subject 1:45\n",
      "Marks of subject 2:78\n",
      "Marks of subject 3:89\n",
      "Marks of subject 4:78\n",
      "Marks of subject 5:90\n",
      "380\n",
      "A+\n"
     ]
    }
   ],
   "source": [
    "a=int(input(\"Marks of subject 1:\")); // URDU\n",
    "b=int(input(\"Marks of subject 2:\")); // ENGLISH\n",
    "c=int(input(\"Marks of subject 3:\")); // MATHS\n",
    "d=int(input(\"Marks of subject 4:\")); // SCIENCE\n",
    "e=int(input(\"Marks of subject 5:\")); // DRAWING\n",
    "Total_marks = a + b + c + d + e;\n",
    "print(Total_marks)\n",
    "if Total_marks >= 400 or Total_marks <= 500 :\n",
    " print(\"A+\")\n",
    "elif Total_marks >= 300 or Total_marks < 400:\n",
    " print(\"A\")\n",
    "elif Total_marks >= 200 or Total_marks < 300:\n",
    " print(\"B\")\n",
    "else :\n",
    " print(\"Fail\")"
   ]
  },
  {
   "cell_type": "code",
   "execution_count": 14,
   "metadata": {},
   "outputs": [
    {
     "name": "stdout",
     "output_type": "stream",
     "text": [
      "Enter number5\n",
      "Odd number\n"
     ]
    }
   ],
   "source": [
    "a=int(input(\"Enter number\"))\n",
    "if a % 2 == 0 :\n",
    " print(\"Even number\")\n",
    "else :\n",
    " print (\"Odd number\")\n"
   ]
  },
  {
   "cell_type": "code",
   "execution_count": 17,
   "metadata": {},
   "outputs": [
    {
     "name": "stdout",
     "output_type": "stream",
     "text": [
      "('length of the list', 6)\n"
     ]
    }
   ],
   "source": [
    "a = [23, \"Ahmad\", False , 56 , 45, \"Nadia\"]\n",
    "n = len(a)\n",
    "print(\"length of the list\", n)"
   ]
  },
  {
   "cell_type": "code",
   "execution_count": 21,
   "metadata": {},
   "outputs": [
    {
     "name": "stdout",
     "output_type": "stream",
     "text": [
      "('Sum of list is', 705)\n"
     ]
    }
   ],
   "source": [
    "a = [12,34,45,56,67,34,100,45,34,23,56,45,98,56]\n",
    "Ans = sum(a)\n",
    "print(\"Sum of list is\" , Ans)"
   ]
  },
  {
   "cell_type": "code",
   "execution_count": 22,
   "metadata": {},
   "outputs": [
    {
     "name": "stdout",
     "output_type": "stream",
     "text": [
      "('Largest Number is', 100)\n"
     ]
    }
   ],
   "source": [
    "a = [12,34,45,56,67,34,100,45,34,23,56,45,98,56]\n",
    "Largest_Number = max(a)\n",
    "print(\"Largest Number is\", Largest_Number)"
   ]
  },
  {
   "cell_type": "code",
   "execution_count": 27,
   "metadata": {},
   "outputs": [
    {
     "name": "stdout",
     "output_type": "stream",
     "text": [
      "('Elements that are less than 5', 1)\n",
      "('Elements that are less than 5', 1)\n",
      "('Elements that are less than 5', 2)\n",
      "('Elements that are less than 5', 3)\n"
     ]
    }
   ],
   "source": [
    "a = [1 ,1,2,3,5,8,13,21,34,55,89]\n",
    "x=a\n",
    "for x in a :\n",
    "    if x<5 :\n",
    "     print(\"Elements that are less than 5\" ,x)\n",
    "    else :\n",
    "        pass"
   ]
  },
  {
   "cell_type": "code",
   "execution_count": null,
   "metadata": {},
   "outputs": [],
   "source": []
  }
 ],
 "metadata": {
  "kernelspec": {
   "display_name": "Python 2",
   "language": "python",
   "name": "python2"
  },
  "language_info": {
   "codemirror_mode": {
    "name": "ipython",
    "version": 2
   },
   "file_extension": ".py",
   "mimetype": "text/x-python",
   "name": "python",
   "nbconvert_exporter": "python",
   "pygments_lexer": "ipython2",
   "version": "2.7.16"
  }
 },
 "nbformat": 4,
 "nbformat_minor": 2
}
