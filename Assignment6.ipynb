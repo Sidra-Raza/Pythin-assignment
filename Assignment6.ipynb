{
 "cells": [
  {
   "cell_type": "code",
   "execution_count": null,
   "metadata": {},
   "outputs": [],
   "source": [
    "% Define Object oriented programming language\n",
    "Ans. Object-oriented programming (OOP) is a programming language model in which programs are organized around data, or objects, rather than functions and logic. An object can be defined as a data field that has unique attributes and behavior."
   ]
  },
  {
   "cell_type": "code",
   "execution_count": null,
   "metadata": {},
   "outputs": [],
   "source": [
    "Q2. List down the benefits of OOP?\n",
    "Ans. \n",
    " 1.Through inheritance, we can eliminate redundant code and extend the use of existing classes which is not possible in procedure oriented approach.\n",
    " 2. We can build programs from the standard working modules that communicate with one another, rather than having to start writing the code from scratch which happens procedure oriented approach. This leads to saving of development time and higher productivity.\n",
    " 3.The principle of data hiding helps the programmer to build secure programs that cannot be invaded by code in other parts of the program.\n",
    " 4.It is possible to have multiple instances of object to co-exist without any interference.\n",
    " 5.It is possible to map objects in the problem domain to those in the program.\n",
    " 6. It is easy to partition the work in a project based on objects .\n",
    " 7. The data-centered design approach enables us to capture more details of a model in implementable from.\n",
    " 8.Object oriented systems can be easily upgraded from small to large systems.\n",
    " 9.Message passing techniques for communication between objects makes the interface descriptions with external systems much simpler."
   ]
  },
  {
   "cell_type": "code",
   "execution_count": null,
   "metadata": {},
   "outputs": [],
   "source": [
    "Q3.Differntiate b/w function and method?\n",
    "Ans. Function:\n",
    "    A function is a piece of code that is called by name. It can be passed data to operate on (i.e. the parameters) and can optionally return data (the return value). All data that is passed to a function is explicitly passed.\n",
    "     Method:\n",
    "    A method is a piece of code that is called by a name that is associated with an object. In most respects it is identical to a function except for two key differences:\n",
    "\n",
    "* A method is implicitly passed the object on which it was called.\n",
    "* A method is able to operate on data that is contained within the class (remembering that an object is an instance of a class - the class is the definition, the object is an instance of that data)."
   ]
  },
  {
   "cell_type": "code",
   "execution_count": 1,
   "metadata": {},
   "outputs": [
    {
     "name": "stdout",
     "output_type": "stream",
     "text": [
      "Wish\n",
      "2004\n",
      "silver\n",
      "toyota\n",
      "5\n"
     ]
    }
   ],
   "source": [
    "# Question 5\n",
    "class Car():\n",
    "    def __init__(self,name,model,colour):\n",
    "        self.name   = name\n",
    "        self.model  = model\n",
    "        self.colour = colour\n",
    "    def manufacturer(self):\n",
    "        print(\"toyota\")\n",
    "    def doors(self):\n",
    "        print(5)\n",
    "Mycar = Car('Wish',2004,\"silver\")\n",
    "print(Mycar.name)\n",
    "print(Mycar.model)\n",
    "print(Mycar.colour)\n",
    "Mycar.manufacturer()\n",
    "Mycar.doors()"
   ]
  }
 ],
 "metadata": {
  "kernelspec": {
   "display_name": "Python 2",
   "language": "python",
   "name": "python2"
  },
  "language_info": {
   "codemirror_mode": {
    "name": "ipython",
    "version": 2
   },
   "file_extension": ".py",
   "mimetype": "text/x-python",
   "name": "python",
   "nbconvert_exporter": "python",
   "pygments_lexer": "ipython2",
   "version": "2.7.16"
  }
 },
 "nbformat": 4,
 "nbformat_minor": 2
}
