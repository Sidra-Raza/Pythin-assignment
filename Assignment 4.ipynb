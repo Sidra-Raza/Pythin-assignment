{
 "cells": [
  {
   "cell_type": "code",
   "execution_count": 8,
   "metadata": {},
   "outputs": [
    {
     "name": "stdout",
     "output_type": "stream",
     "text": [
      "{'city_name': 'islamabad', 'first_name': 'fahad', 'last_name': 'khan', 'age': 15}\n"
     ]
    }
   ],
   "source": [
    "information = {\"first_name\": \"fahad\",\"last_name\": \"khan\",\"age\":15 , \"city_name\":\"islamabad\"}\n",
    "print(information)\n",
    "    "
   ]
  },
  {
   "cell_type": "code",
   "execution_count": 9,
   "metadata": {},
   "outputs": [
    {
     "name": "stdout",
     "output_type": "stream",
     "text": [
      "{'karachi': {'country': 'pakistan', 'fact': 'city of lights', 'population': '2 crore'}, 'islamabad': {'country': 'pakistan', 'fact': 'Dubai of Pakistan', 'population': '10 lac'}, 'Lahore': {'country': 'pakistan', 'fact': 'famous places', 'population': '50 lac'}}\n"
     ]
    }
   ],
   "source": [
    "cities = {\n",
    "    \"karachi\":{\"country\":\"pakistan\",\"population\": \"2 crore\",\"fact\":\"city of lights\"},\n",
    "    \"Lahore\":{\"country\":\"pakistan\",\"population\": \"50 lac\",\"fact\":\"famous places\"},\n",
    "    \"islamabad\":{\"country\":\"pakistan\",\"population\": \"10 lac\",\"fact\":\"Dubai of Pakistan\"}\n",
    "}\n",
    "print(cities)\n",
    "    "
   ]
  },
  {
   "cell_type": "code",
   "execution_count": null,
   "metadata": {},
   "outputs": [
    {
     "name": "stdout",
     "output_type": "stream",
     "text": [
      "\n",
      "Enter 'quit' when you are finished.\n",
      "Please enter your age: 6\n",
      "Your ticket is $10\n"
     ]
    }
   ],
   "source": [
    "\n",
    "prompt = \"\\nEnter 'quit' when you are finished.\"\n",
    "prompt += \"\\nPlease enter your age: \"\n",
    "\n",
    "\n",
    "while True:\n",
    "    age = input(prompt)\n",
    "    age = int(age)\n",
    "\n",
    "\n",
    "    if age == 'quit':\n",
    "        break\n",
    "    elif age < 3:\n",
    "        print(\"Your ticket is free\")\n",
    "    elif age > 3 and age < 12:\n",
    "        print(\"Your ticket is $10\")\n",
    "    elif age > 12:\n",
    "        print(\"your ticket is $15\")\n",
    "    else:\n",
    "        print(\"Your ticket is $15\")"
   ]
  },
  {
   "cell_type": "code",
   "execution_count": 11,
   "metadata": {},
   "outputs": [
    {
     "name": "stdout",
     "output_type": "stream",
     "text": [
      "Alice in the Wonderland\n"
     ]
    }
   ],
   "source": [
    "def fav_book():\n",
    "    print(a)\n",
    "a = \"Alice in the Wonderland\"   \n",
    "fav_book()   "
   ]
  },
  {
   "cell_type": "code",
   "execution_count": 2,
   "metadata": {},
   "outputs": [
    {
     "name": "stdout",
     "output_type": "stream",
     "text": [
      "Random number has been generated\n",
      "Your guess is: 7\n",
      "Try one more time, a bit higher\n",
      "Your guess is: 12\n",
      "Try one more time, a bit higher\n",
      "Your guess is: 18\n",
      "Try one more time, a bit higher\n",
      "Your guess is: 25\n",
      "Try one more time, a bit lower\n",
      "Your guess is: 23\n",
      "Try one more time, a bit lower\n",
      "Your guess is: 21\n",
      "Try one more time, a bit higher\n",
      "Your guess is: 22\n",
      "Well done!\n",
      "End of program\n"
     ]
    }
   ],
   "source": [
    "import random\n",
    "randomNumber = random.randrange(0,100)\n",
    "print(\"Random number has been generated\")\n",
    "guessed = False\n",
    "while guessed==False:\n",
    "    userInput = int(input(\"Your guess is: \"))\n",
    "    if userInput==randomNumber:\n",
    "        guessed = True\n",
    "        print(\"Well done!\")\n",
    "    elif userInput>100:\n",
    "        print(\"Our guess range is between 0 and 100, please try a bit lower\")\n",
    "    elif userInput<0:\n",
    "        print(\"Our guess range is between 0 and 100, please try a bit higher\")\n",
    "    elif userInput>randomNumber:\n",
    "        print(\"Try one more time, a bit lower\")\n",
    "    elif userInput < randomNumber:\n",
    "        print(\"Try one more time, a bit higher\")\n",
    "\n",
    "print(\"End of program\")"
   ]
  },
  {
   "cell_type": "code",
   "execution_count": null,
   "metadata": {},
   "outputs": [],
   "source": []
  }
 ],
 "metadata": {
  "kernelspec": {
   "display_name": "Python 2",
   "language": "python",
   "name": "python2"
  },
  "language_info": {
   "codemirror_mode": {
    "name": "ipython",
    "version": 2
   },
   "file_extension": ".py",
   "mimetype": "text/x-python",
   "name": "python",
   "nbconvert_exporter": "python",
   "pygments_lexer": "ipython2",
   "version": "2.7.16"
  }
 },
 "nbformat": 4,
 "nbformat_minor": 2
}
